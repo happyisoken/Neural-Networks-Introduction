{
 "cells": [
  {
   "cell_type": "markdown",
   "id": "af846b80-394a-44c5-8296-e5031f592c0c",
   "metadata": {},
   "source": [
    "#### INTRODUCTION TO NEURAL NETWORKS\n",
    "\n",
    "Creating a ML Algorithm means building a model that outputs correct information given that we've provided input data. We must trian the model because it is the process by which the model makes sense of the input data. Once our model is trained, we can fit it with data to obtain an output.\n",
    "\n",
    "##### Training an Algorithm invovles four ingredients\n",
    "\n",
    "##### Data\n",
    "We must first prepare a certain amount of data to train with. These are historical data that is readily available\n",
    "\n",
    "##### Model\n",
    "We need a model. The simplest model to train is the linear model. Deep Machine Learning lets us create complicated non-linear models. They usually fit the model better than a simple linear relationship. \n",
    "\n",
    "##### Objective Function\n",
    "To make the output from data fed into the model close to reality as possible, the objective function comes in. It estimates how correct a model's output are on average. The entire ML framework boils down to this particular function.\n",
    "\n",
    "##### Optimization Algorithm \n",
    "It consists of the mechanics through which we vary the parameters of the model to optimize the objective function.\n",
    "\n",
    "We say 4 ingredients and not 4 steps because the ML process is iterative (repetitive). We feed data into the model and compare the accuracy through the objective function. Then, we vary the model's parameters and repeat the operation. When we reach a point which we can no longer optimize, we stop since we would have found a solution to our problem."
   ]
  },
  {
   "cell_type": "markdown",
   "id": "4d05511e-76a4-4165-a79f-f4910bd8362e",
   "metadata": {},
   "source": [
    "#### TRAINING THE MODEL THEORY\n",
    "\n",
    "Machine learning is powerful. It allows systems to learn on their own situations where humans cannot define a rigid set of rules for the computer to follow. Even if we can define a set of rules, an algorithm can probabaly provide a better one. An example is self-driving cars. It is not the set of rules they know but the final goal."
   ]
  },
  {
   "cell_type": "markdown",
   "id": "1f954dba-98e2-49a2-a6d0-4fd47a9c065c",
   "metadata": {},
   "source": [
    "#### TYPES OF MACHINE LEARNING\n",
    "\n",
    "There are 3 majore types of Machine learining\n",
    "\n",
    "##### Supervised\n",
    "This is a situation where we provide algorithm with inputs and their corresponding desired outputs. Based on the information it receives, it learns to produce outputs close to the one we are looking for. It is the simplest and most commonly used.\n",
    "\n",
    "Types:\n",
    "1. Classification - provides outputs which are categories\n",
    "2. Regression - outputs are of numerical type.\n",
    "\n",
    "##### Unsupervised\n",
    "Here, we feed inputs but there are no target outputs. We don't tell the algorithm what our goal is, instead, we ask it to depend on the data provided. This is useful when the goal is to split the dataset into a certain number of categories which do not know prior to implementation(clustering)\n",
    "\n",
    "##### Reinforcement\n",
    "Here, the model is trained to act in an environment based on the reward it receives."
   ]
  },
  {
   "cell_type": "markdown",
   "id": "71b0bd9a-7c85-4b5c-b435-eb06c2d61a58",
   "metadata": {},
   "source": [
    "#### THE LINEAR MODEL\n",
    "\n",
    "It is the basis for more complicated models including non-linear ones.\n",
    "\n",
    "f(x) = xw + b\n",
    "Where x = input\n",
    "      w = weight\n",
    "      b = bias(es)\n",
    "The goal of the ML Algorithm is to find the values for w and b.\n",
    "\n",
    "#### THE LINEAR MODEL- MULTIPLE INPUTS\n",
    "\n",
    "A linear model with multiple inputs. Same linear algebraic terms are used.\n",
    "\n",
    "#### THE LINEAR MODEL- MULTIPLE INPUTS AND MULTIPLE OUTPUTS\n",
    "\n",
    "Inputs are unchanged but with more than one outputs.\n",
    "\n",
    "If we have K inputs and M outputs, the weight will be K * M. \n",
    "\n",
    "The number of outputs = Number of biases\n",
    "\n",
    "Each model is determined by its weights and biases. in ML, we vary only the weights and biases, but the logic of the model remains the same.\n",
    "\n",
    "#### GRAPHICAL REPRESENTATION\n",
    "\n",
    "How linear model solve picture problem E.g Cats and dogs. This will depend on the data. Here we have a classification problem i.e classifying the pix into dogs and cat. This model is called the linear classifer.\n",
    "\n",
    "Where models are non-liearly seperable, we must use a non-linear model."
   ]
  },
  {
   "cell_type": "markdown",
   "id": "046e664f-d332-4630-bcc3-633af45cc3cd",
   "metadata": {},
   "source": [
    "#### THE OBJECTIVE FUNCTION\n",
    "\n",
    "This is the measure used to evaluate how well the model's output match the desired correct values. \n",
    "\n",
    "TYPES\n",
    "\n",
    "1. Loss functions(Cost functions) - The lower the loss function, the higher the level of accuracy of the model. An example is a loss function that measures the error of prediction. We want to minimize the error of prediction. Thus minimize the loss.\n",
    "\n",
    "2. Reward functions - The higher the reward function, the higher the level of accuracy of the model. They are used in reinforcement learning where the goal is to maximise a specific result."
   ]
  },
  {
   "cell_type": "markdown",
   "id": "c454a2b1-e7f0-4ea5-b9b7-9f428fbfa1c0",
   "metadata": {},
   "source": [
    "#### L2-NORM LOSS\n",
    "\n",
    "Supervised learning is divided into Regression and Classification which are further subdived into L2 norm and Cross energy respectively. \n",
    "\n",
    "The objective function is a seperate bloc in the framework of our model. This applies to all models regardless of their linearity.\n",
    "\n",
    "Target - the desired value which we are aiming. We want our output to be as close as possible to the target.\n",
    "\n",
    "The loss function is further sub-divided into Regression and classification. The outputs of a regression are continuous numbers. \n",
    "\n",
    "A commonly used loss function is the squared loss(L2 norm loss). The lower the error, the lower the loss. \"Norm\" comes from the fact that it is a vector norm or Euclidean distance of the output and the targets. The lower the sum of L2, th lower the error of prediction and a lower cost function.\n",
    "\n",
    "#### CROSS-ENTROPY LOSS\n",
    "\n",
    "This is the most common loss function used for classification. \n",
    "\n",
    "Any function that holds the basic property: Higher for worse results, lower for better results, can be a loss function."
   ]
  },
  {
   "cell_type": "markdown",
   "id": "927729fd-9bbf-4f6c-8002-45d81a802bfa",
   "metadata": {},
   "source": [
    "#### ONE PARAMETER GRADIENT DESCENT\n",
    "\n",
    "Gradient Descent - The simplest and most fundamental algorithm.\n",
    "Gradient is the multi-varient generalization of the derivative concept.\n",
    "\n",
    "Eta: is the learning rate. The rate at which the ML algorithm gets old beliefs from the new ones. \n",
    "\n",
    "Generally, we want the learning rate to be; \n",
    "\n",
    "High enough, so we can reach the closest minimum in a rational amount of time.\n",
    "\n",
    "Low enough, so we dont oscillate around the minimum.\n",
    "\n",
    "Using gradient descent,\n",
    "1. We can find the minimum by trial and error.\n",
    "2. Each tiral is better than the previous one.\n",
    "3. Learning rate should be high enough so we dont iterate forever, but low enough so we dont oscillate forever.\n",
    "4. We should stop updating once we've converged."
   ]
  },
  {
   "cell_type": "markdown",
   "id": "7ee64511-fcb0-4e7f-ad6c-0acca5c25609",
   "metadata": {},
   "source": [
    "#### N-Parameter Gradient Descent\n"
   ]
  },
  {
   "cell_type": "markdown",
   "id": "4788358f-5e1d-42aa-ac45-5f4cca2e3d88",
   "metadata": {},
   "source": [
    "#### Generating the data (optional)"
   ]
  },
  {
   "cell_type": "markdown",
   "id": "ddfd33c3-4807-4639-92d4-4dc18c954804",
   "metadata": {},
   "source": [
    "##### Simple Linear Regression. Minimal example"
   ]
  },
  {
   "cell_type": "markdown",
   "id": "cbce47c9-5265-4b6a-a696-bca287b65131",
   "metadata": {},
   "source": [
    "##### Import the relevant libraries"
   ]
  },
  {
   "cell_type": "code",
   "execution_count": 1,
   "id": "0646902d-dca9-4f3b-9a9c-43af265cb017",
   "metadata": {},
   "outputs": [],
   "source": [
    "import numpy as np # For mathematical operations\n",
    "import matplotlib.pyplot as plt # For nice graphs\n",
    "from mpl_toolkits.mplot3d import Axes3D # For nice 3D graphs"
   ]
  },
  {
   "cell_type": "markdown",
   "id": "e9105e87-8c3f-488d-81a9-3ac9ef27a6e3",
   "metadata": {},
   "source": [
    "#### Generate random input data to train on"
   ]
  },
  {
   "cell_type": "code",
   "execution_count": 2,
   "id": "91993ad1-6999-4c4c-8e8f-0f271a70597e",
   "metadata": {},
   "outputs": [
    {
     "name": "stdout",
     "output_type": "stream",
     "text": [
      "(1000, 2)\n"
     ]
    }
   ],
   "source": [
    "# Declare a variable called observations\n",
    "observations = 1000\n",
    "\n",
    "# Create a two variable linear model:\n",
    "xs = np.random.uniform(low = -10, high = 10, size = (observations, 1))\n",
    "zs = np.random.uniform(-10, 10, (observations, 1))\n",
    "\n",
    "# Create the input matrix\n",
    "inputs = np.column_stack((xs, zs)) #stacks the observation into a matrix\n",
    "\n",
    "print(inputs.shape)"
   ]
  },
  {
   "cell_type": "markdown",
   "id": "06447561-fabf-40bb-9378-9f5087198518",
   "metadata": {},
   "source": [
    "The elements of the model in supervised learning are:\n",
    "\n",
    "    1. inputs\n",
    "    2. weights\n",
    "    3. biases\n",
    "    4. outputs\n",
    "    5. targets"
   ]
  },
  {
   "cell_type": "markdown",
   "id": "d5bf5ea4-fa11-4e06-a102-955c816321f7",
   "metadata": {},
   "source": [
    "##### Create the targets we will aim at"
   ]
  },
  {
   "cell_type": "code",
   "execution_count": 3,
   "id": "8c60be26-b5d4-470b-be49-8ecb3c2e78a9",
   "metadata": {},
   "outputs": [
    {
     "name": "stdout",
     "output_type": "stream",
     "text": [
      "(1000, 1)\n"
     ]
    }
   ],
   "source": [
    "# Declare the noise variable\n",
    "noise = np.random.uniform(-1, 1, (observations, 1))\n",
    "\n",
    "targets = 2*xs - 3*zs + 5 + noise\n",
    "\n",
    "print(targets.shape)"
   ]
  },
  {
   "cell_type": "markdown",
   "id": "cfdf6ac0-7e13-47fc-bb36-8149a9112d4d",
   "metadata": {},
   "source": [
    "#### Initializing the variables"
   ]
  },
  {
   "cell_type": "markdown",
   "id": "c2d6a1a8-130c-4e19-85c4-938b6ca12f44",
   "metadata": {},
   "source": [
    "##### Plot the training data\n",
    "\n",
    "The point is to see that there is a strong trend that our model should learn to reproduce"
   ]
  },
  {
   "cell_type": "code",
   "execution_count": 4,
   "id": "9d2a76dd-9c9f-4424-b2e8-395ce3581b25",
   "metadata": {},
   "outputs": [
    {
     "data": {
      "image/png": "[encoded data removed]",
      "text/plain": [
       "<Figure size 640x480 with 1 Axes>"
      ]
     },
     "metadata": {},
     "output_type": "display_data"
    }
   ],
   "source": [
    "# In order to use the 3D plot, the objects should have a certain shape, so we reshape the targets.\n",
    "# The proper method to use is reshape and takes as arguments the dimensions in which we want to fit the objects.\n",
    "targets = targets.reshape(observations,)\n",
    "\n",
    "#Declare the figure\n",
    "fig = plt.figure()\n",
    "\n",
    "# A method allowing us to create the 3D plot\n",
    "ax = fig.add_subplot(111, projection = '3d')\n",
    "\n",
    "#choose the axes\n",
    "#ax.plot(xs, zs, targets)\n",
    "\n",
    "#Set the labels\n",
    "ax.set_xlabel('xs')\n",
    "ax.set_ylabel('zs')\n",
    "ax.set_zlabel('Targets')\n",
    "\n",
    "#You can fiddle with the azim parameter to plot from different angles. \n",
    "ax.view_init(azim = 100)\n",
    "\n",
    "#So far, we were just describing the plot. This method actually shows the plot.\n",
    "plt.show()\n",
    "\n",
    "targets = targets.reshape(observations, 1)\n",
    "xs = xs.reshape(observations,1)\n",
    "zs = zs.reshape(observations,1)"
   ]
  },
  {
   "cell_type": "markdown",
   "id": "170c5057-ebc0-47ab-a5c1-9c4bb40fbe37",
   "metadata": {},
   "source": [
    "Note that;\n",
    "\n",
    "Linear relationship in 2D is a straight line.\n",
    "\n",
    "Linear relationship in 3D is a plane."
   ]
  },
  {
   "cell_type": "markdown",
   "id": "4fcf55df-390a-4e1f-8bab-70f446b211b8",
   "metadata": {},
   "source": [
    "##### Initialize variables\n",
    "\n",
    "Our initial weights and biases will be picked randomly from the interval[-0.1, 0.1]"
   ]
  },
  {
   "cell_type": "code",
   "execution_count": 5,
   "id": "7fac24e0-80da-4ed2-af1e-c6c3523cb9dc",
   "metadata": {},
   "outputs": [
    {
     "name": "stdout",
     "output_type": "stream",
     "text": [
      "[[-0.03200231]\n",
      " [-0.02255976]]\n",
      "[-0.03466839]\n"
     ]
    }
   ],
   "source": [
    "#declare the range, weights and biases\n",
    "init_range = 0.1\n",
    "\n",
    "weights = np.random.uniform(-init_range, init_range, size = (2, 1))\n",
    "\n",
    "biases = np.random.uniform(-init_range, init_range, size = 1) #each bias refers to an output\n",
    "\n",
    "print(weights)\n",
    "print(biases)"
   ]
  },
  {
   "cell_type": "markdown",
   "id": "6922993e-fa5b-4c44-9cf6-8b45018594d9",
   "metadata": {},
   "source": [
    "##### Set a learning rate"
   ]
  },
  {
   "cell_type": "code",
   "execution_count": 6,
   "id": "4eb006df-c386-44b5-a104-82e063cb5f62",
   "metadata": {},
   "outputs": [],
   "source": [
    "#Assign a learning rate which we denote with Eta \n",
    "learning_rate = 0.02"
   ]
  },
  {
   "cell_type": "markdown",
   "id": "501175c0-7bb8-4907-9ade-75f974fa8a32",
   "metadata": {},
   "source": [
    "#### Training the model"
   ]
  },
  {
   "cell_type": "markdown",
   "id": "bc52ad71-b851-4339-a642-2c0ef3780adb",
   "metadata": {},
   "source": [
    "##### Train the model"
   ]
  },
  {
   "cell_type": "code",
   "execution_count": 7,
   "id": "2c360544-5ad0-4e7a-9b79-8924bc8da20e",
   "metadata": {},
   "outputs": [
    {
     "name": "stdout",
     "output_type": "stream",
     "text": [
      "224.89446390219587\n",
      "37.23781805929765\n",
      "14.875643652105097\n",
      "11.837803961954865\n",
      "11.085718339013628\n",
      "10.618968824018324\n",
      "10.200987166625206\n",
      "9.80315464229634\n",
      "9.4214995434657\n",
      "9.055002722780726\n",
      "8.703018839819757\n",
      "8.364967999181317\n",
      "8.040298045893255\n",
      "7.728479256070716\n",
      "7.429002942809434\n",
      "7.141380562521979\n",
      "6.865142910264481\n",
      "6.59983935338166\n",
      "6.345037096267179\n",
      "6.100320474320892\n",
      "5.86529027586429\n",
      "5.63956309089736\n",
      "5.422770685633305\n",
      "5.214559401790555\n",
      "5.014589579662137\n",
      "4.822535004021207\n",
      "4.638082371958905\n",
      "4.460930781786325\n",
      "4.2907912421668835\n",
      "4.127386200678323\n",
      "3.9704490910352477\n",
      "3.8197238982336152\n",
      "3.6749647409077415\n",
      "3.535935470218558\n",
      "3.402409284618759\n",
      "3.2741683598663616\n",
      "3.151003493683175\n",
      "3.03271376447847\n",
      "2.919106203581105\n",
      "2.80999548044543\n",
      "2.7052036003174367\n",
      "2.604559613867962\n",
      "2.5078993383192247\n",
      "2.4150650896098074\n",
      "2.325905425161127\n",
      "2.2402748968257957\n",
      "2.158033813614806\n",
      "2.079048013816503\n",
      "2.0031886461356128\n",
      "1.930331959495233\n",
      "1.8603591011589584\n",
      "1.793155922843752\n",
      "1.728612794507317\n",
      "1.666624425506162\n",
      "1.6070896928326253\n",
      "1.549911476150663\n",
      "1.4949964993612785\n",
      "1.4422551784391484\n",
      "1.3916014752921955\n",
      "1.3429527574057423\n",
      "1.2962296630422445\n",
      "1.2513559717767202\n",
      "1.2082584801566705\n",
      "1.1668668822836599\n",
      "1.1271136551217347\n",
      "1.088933948345588\n",
      "1.0522654785487855\n",
      "1.0170484276394502\n",
      "0.9832253452576829\n",
      "0.9507410550554987\n",
      "0.9195425646864324\n",
      "0.8895789793579391\n",
      "0.8608014188055834\n",
      "0.8331629375535735\n",
      "0.8066184483315674\n",
      "0.7811246485227955\n",
      "0.7566399495235425\n",
      "0.7331244088987312\n",
      "0.7105396652229331\n",
      "0.6888488755005261\n",
      "0.6680166550628941\n",
      "0.6480090198446233\n",
      "0.6287933309445464\n",
      "0.6103382413811712\n",
      "0.5926136449556488\n",
      "0.5755906271388702\n",
      "0.5592414179025391\n",
      "0.5435393464173139\n",
      "0.5284587975440852\n",
      "0.5139751700474309\n",
      "0.5000648364630719\n",
      "0.48670510455386273\n",
      "0.4738741802914416\n",
      "0.4615511323031424\n",
      "0.4497158577261819\n",
      "0.4383490494134152\n",
      "0.4274321644371496\n",
      "0.41694739383965906\n",
      "0.40687763358103113\n",
      "0.3972064566369688\n"
     ]
    }
   ],
   "source": [
    "for i in range (100):\n",
    "    outputs = np.dot(inputs, weights) + biases\n",
    "    deltas = outputs - targets # records the diff between outputs and targets\n",
    "    \n",
    "    loss = np.sum(deltas**2) / 2 / observations #loss function that compares output to the target\n",
    "    \n",
    "    print(loss) # Print the loss at each step to monitor if it is invreasing or decreasing\n",
    "    \n",
    "    deltas_scaled  = deltas / observations\n",
    "    \n",
    "    weights = weights - learning_rate * np.dot(inputs.T, deltas_scaled)\n",
    "    biases = biases - learning_rate * np.sum(deltas_scaled)"
   ]
  },
  {
   "cell_type": "markdown",
   "id": "bade19be-2072-4d44-b3d3-b218f50380e0",
   "metadata": {},
   "source": [
    "Game plan for each iteration:\n",
    "1. Calculate outputs\n",
    "2. Compare outputs to targets through the loss\n",
    "3. Print the loss\n",
    "\n",
    "The output are the values of the average loss function in descending order. It started with high values but became lower at each iteration until it reached a point where it almost stopped changing. This means we have minimized or almost minimized the loss function with respect to the weights and biases. Therefore, we have found a linear function that fits the model well."
   ]
  },
  {
   "cell_type": "markdown",
   "id": "9e511255-dd87-483b-928d-304391fc87b7",
   "metadata": {},
   "source": [
    "##### Print weights and biases and see if we have worked correctly."
   ]
  },
  {
   "cell_type": "code",
   "execution_count": 12,
   "id": "3231ed8f-6520-4564-aff6-51d3e6076550",
   "metadata": {},
   "outputs": [
    {
     "name": "stdout",
     "output_type": "stream",
     "text": [
      "[[ 1.99753072]\n",
      " [-3.00125038]] [4.34042838]\n"
     ]
    }
   ],
   "source": [
    "print(weights, biases)"
   ]
  },
  {
   "cell_type": "code",
   "execution_count": 14,
   "id": "658605ef-5fc4-4c52-9195-d6ba70d35713",
   "metadata": {},
   "outputs": [
    {
     "name": "stdout",
     "output_type": "stream",
     "text": [
      "[[ 1.99753072]\n",
      " [-3.00125038]] [4.34042838]\n"
     ]
    }
   ],
   "source": [
    "# Re-run the code for the loop\n",
    "print(weights, biases)"
   ]
  },
  {
   "cell_type": "markdown",
   "id": "ae401017-84ac-4994-8029-b1495f7c95a9",
   "metadata": {},
   "source": [
    "##### Plot last outputs vs targets\n",
    "\n",
    "Since they are the last ones at the end of the training, they represent the final model accuracy.\n",
    "\n",
    "The closer this points to a 45 degree line, the closer target and output values are."
   ]
  },
  {
   "cell_type": "code",
   "execution_count": 15,
   "id": "06a56ee3-ee83-4dbd-b1e4-aa7ca8230ce3",
   "metadata": {},
   "outputs": [
    {
     "data": {
      "image/png": "[encoded data removed]",
      "text/plain": [
       "<Figure size 640x480 with 1 Axes>"
      ]
     },
     "metadata": {},
     "output_type": "display_data"
    }
   ],
   "source": [
    "plt.plot(outputs, targets)\n",
    "plt.xlabel('outputs')\n",
    "plt.ylabel('targets')\n",
    "plt.show()"
   ]
  },
  {
   "cell_type": "markdown",
   "id": "4a2549a0-cdbc-4a08-94f9-9ccbe9a244b2",
   "metadata": {},
   "source": [
    "The closer the plot is to a 45 degree line, the closer the outputs are to the targets. "
   ]
  },
  {
   "cell_type": "code",
   "execution_count": null,
   "id": "9477308a-fb4c-4091-a1c2-a726285e2bf7",
   "metadata": {},
   "outputs": [],
   "source": []
  }
 ],
 "metadata": {
  "kernelspec": {
   "display_name": "Python 3 (ipykernel)",
   "language": "python",
   "name": "python3"
  },
  "language_info": {
   "codemirror_mode": {
    "name": "ipython",
    "version": 3
   },
   "file_extension": ".py",
   "mimetype": "text/x-python",
   "name": "python",
   "nbconvert_exporter": "python",
   "pygments_lexer": "ipython3",
   "version": "3.9.13"
  }
 },
 "nbformat": 4,
 "nbformat_minor": 5
}
